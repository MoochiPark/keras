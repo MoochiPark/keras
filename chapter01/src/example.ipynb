{
  "nbformat": 4,
  "nbformat_minor": 0,
  "metadata": {
    "colab": {
      "name": "example.ipynb",
      "provenance": [],
      "collapsed_sections": [],
      "authorship_tag": "ABX9TyO5gV/7it2TdrM5QyU5/cQZ",
      "include_colab_link": true
    },
    "kernelspec": {
      "name": "python3",
      "display_name": "Python 3"
    }
  },
  "cells": [
    {
      "cell_type": "markdown",
      "metadata": {
        "id": "view-in-github",
        "colab_type": "text"
      },
      "source": [
        "<a href=\"https://colab.research.google.com/github/MoochiPark/keras/blob/master/chapter01/src/example.ipynb\" target=\"_parent\"><img src=\"https://colab.research.google.com/assets/colab-badge.svg\" alt=\"Open In Colab\"/></a>"
      ]
    },
    {
      "cell_type": "markdown",
      "metadata": {
        "id": "f5B2_E2A14b_",
        "colab_type": "text"
      },
      "source": [
        "# 손글씨 영상을 분류하는 모델\n",
        "가로, 세로 픽셀이 28x28인 이미지를 1차원 784 벡터로 변환한 다음\n",
        "이를 학습 및 평가한다. "
      ]
    },
    {
      "cell_type": "code",
      "metadata": {
        "id": "H29IuVMpDFDv",
        "colab_type": "code",
        "colab": {}
      },
      "source": [
        "from keras.utils import np_utils\n",
        "from keras.datasets import mnist\n",
        "from keras.models import Sequential\n",
        "from keras.layers import Dense, Activation"
      ],
      "execution_count": 0,
      "outputs": []
    },
    {
      "cell_type": "markdown",
      "metadata": {
        "id": "RBz_OC8f0zuo",
        "colab_type": "text"
      },
      "source": [
        "## 1. 데이터셋 생성하기"
      ]
    },
    {
      "cell_type": "code",
      "metadata": {
        "id": "UPHaRp7T0JnN",
        "colab_type": "code",
        "colab": {}
      },
      "source": [
        "(x_train, y_train), (x_test, y_test) = mnist.load_data()\n",
        "x_train = x_train.reshape(60000, 784).astype('float32') / 255.0\n",
        "x_test = x_test.reshape(10000, 784).astype('float32') / 255.0\n",
        "\n",
        "y_train = np_utils.to_categorical(y_train)\n",
        "y_test = np_utils.to_categorical(y_test)"
      ],
      "execution_count": 0,
      "outputs": []
    },
    {
      "cell_type": "markdown",
      "metadata": {
        "id": "rN_VseRb03No",
        "colab_type": "text"
      },
      "source": [
        "## 2. 모델 구성하기"
      ]
    },
    {
      "cell_type": "code",
      "metadata": {
        "id": "Z1KTGtnH0rDa",
        "colab_type": "code",
        "colab": {}
      },
      "source": [
        "model = Sequential()\n",
        "model.add(Dense(units=64, input_dim=28*28, activation='relu'))\n",
        "model.add(Dense(units=10, activation='softmax'))"
      ],
      "execution_count": 0,
      "outputs": []
    },
    {
      "cell_type": "markdown",
      "metadata": {
        "id": "UzFK9EtB2J3A",
        "colab_type": "text"
      },
      "source": [
        "## 3. 모델 학습과정 설정하기"
      ]
    },
    {
      "cell_type": "code",
      "metadata": {
        "id": "2Ot5euKG12Tt",
        "colab_type": "code",
        "colab": {}
      },
      "source": [
        "model.compile(loss='categorical_crossentropy', optimizer='sgd', metrics=['accuracy'])"
      ],
      "execution_count": 0,
      "outputs": []
    },
    {
      "cell_type": "markdown",
      "metadata": {
        "id": "_sTNFsNn7i15",
        "colab_type": "text"
      },
      "source": [
        "## 4. 모델 학습시키기"
      ]
    },
    {
      "cell_type": "code",
      "metadata": {
        "id": "RgbZofcK2cub",
        "colab_type": "code",
        "colab": {
          "base_uri": "https://localhost:8080/",
          "height": 187
        },
        "outputId": "a9e8118a-25b4-4552-cc96-996b2e10f46e"
      },
      "source": [
        "  hist = model.fit(x_train, y_train, epochs=5, batch_size=32)"
      ],
      "execution_count": 7,
      "outputs": [
        {
          "output_type": "stream",
          "text": [
            "Epoch 1/5\n",
            "60000/60000 [==============================] - 3s 50us/step - loss: 0.6684 - accuracy: 0.8312\n",
            "Epoch 2/5\n",
            "60000/60000 [==============================] - 3s 46us/step - loss: 0.3471 - accuracy: 0.9016\n",
            "Epoch 3/5\n",
            "60000/60000 [==============================] - 3s 45us/step - loss: 0.3011 - accuracy: 0.9143\n",
            "Epoch 4/5\n",
            "60000/60000 [==============================] - 3s 44us/step - loss: 0.2730 - accuracy: 0.9221\n",
            "Epoch 5/5\n",
            "60000/60000 [==============================] - 3s 42us/step - loss: 0.2513 - accuracy: 0.9292\n"
          ],
          "name": "stdout"
        }
      ]
    },
    {
      "cell_type": "markdown",
      "metadata": {
        "id": "LOW2Xylg8uUs",
        "colab_type": "text"
      },
      "source": [
        "## 5. 학습과정 살펴보기"
      ]
    },
    {
      "cell_type": "code",
      "metadata": {
        "id": "nSChqrro8IoC",
        "colab_type": "code",
        "colab": {
          "base_uri": "https://localhost:8080/",
          "height": 68
        },
        "outputId": "2365dfd7-1bcf-4b67-a83d-e863cb5a567e"
      },
      "source": [
        "print('## training loss and acc ##')\n",
        "print(hist.history['loss'])\n",
        "print(hist.history['accuracy'])"
      ],
      "execution_count": 9,
      "outputs": [
        {
          "output_type": "stream",
          "text": [
            "## training loss and acc ##\n",
            "[0.6683597681045532, 0.34706700551311176, 0.30110319119890533, 0.2730094484249751, 0.251349561393261]\n",
            "[0.8312333, 0.9016, 0.9143, 0.9220833, 0.9292]\n"
          ],
          "name": "stdout"
        }
      ]
    },
    {
      "cell_type": "markdown",
      "metadata": {
        "id": "gkbQan9Q8_BJ",
        "colab_type": "text"
      },
      "source": [
        "## 6. 모델 평가하기"
      ]
    },
    {
      "cell_type": "code",
      "metadata": {
        "id": "izV3DSGr88Ke",
        "colab_type": "code",
        "colab": {
          "base_uri": "https://localhost:8080/",
          "height": 68
        },
        "outputId": "0c62dbb3-2544-41f3-9c88-a5e946e995bf"
      },
      "source": [
        "loss_and_metrics = model.evaluate(x_test, y_test, batch_size=32)\n",
        "print('## evaluation loss and metrics ##')\n",
        "print(loss_and_metrics)"
      ],
      "execution_count": 10,
      "outputs": [
        {
          "output_type": "stream",
          "text": [
            "10000/10000 [==============================] - 0s 23us/step\n",
            "## evaluation loss and metrics ##\n",
            "[0.2334217401176691, 0.9327999949455261]\n"
          ],
          "name": "stdout"
        }
      ]
    },
    {
      "cell_type": "markdown",
      "metadata": {
        "id": "H9rnv2eW9RzK",
        "colab_type": "text"
      },
      "source": [
        "## 7. 모델 사용하기"
      ]
    },
    {
      "cell_type": "code",
      "metadata": {
        "id": "igHfx82m9PfO",
        "colab_type": "code",
        "colab": {
          "base_uri": "https://localhost:8080/",
          "height": 68
        },
        "outputId": "8579565b-ee0a-4699-c125-a577b7154af1"
      },
      "source": [
        "xhat = x_test[0:1]\n",
        "yhat = model.predict(xhat)\n",
        "print('## yhat ##')\n",
        "print(yhat)"
      ],
      "execution_count": 11,
      "outputs": [
        {
          "output_type": "stream",
          "text": [
            "## yhat ##\n",
            "[[7.5576674e-05 1.2540819e-07 2.5684395e-04 2.0105317e-03 8.5769869e-07\n",
            "  6.5980596e-05 8.1393372e-09 9.9625266e-01 4.1734656e-05 1.2955937e-03]]\n"
          ],
          "name": "stdout"
        }
      ]
    },
    {
      "cell_type": "code",
      "metadata": {
        "id": "vOPQg73v9ez_",
        "colab_type": "code",
        "colab": {}
      },
      "source": [
        ""
      ],
      "execution_count": 0,
      "outputs": []
    }
  ]
}